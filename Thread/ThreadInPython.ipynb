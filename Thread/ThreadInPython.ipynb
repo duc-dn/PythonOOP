{
 "cells": [
  {
   "cell_type": "code",
   "execution_count": 5,
   "id": "40b85810",
   "metadata": {},
   "outputs": [
    {
     "name": "stdout",
     "output_type": "stream",
     "text": [
      "sleeping 1 second\n",
      "done sleeping!\n",
      "sleeping 1 second\n",
      "done sleeping!\n",
      "process time = 2.003204822540283\n"
     ]
    }
   ],
   "source": [
    "import time\n",
    "def doing_something():\n",
    "    print(\"sleeping 1 second\")\n",
    "    time.sleep(1)\n",
    "    print('done sleeping!')\n",
    "    \n",
    "start = time.time()\n",
    "doing_something() # thuc hien mat 1s\n",
    "doing_something() # thuc hien mat 1s\n",
    "end = time.time()\n",
    "print(\"process time = \" + str(end - start))"
   ]
  },
  {
   "cell_type": "code",
   "execution_count": 4,
   "id": "b585ff20",
   "metadata": {},
   "outputs": [
    {
     "name": "stdout",
     "output_type": "stream",
     "text": [
      "sleeping 1 second...\n",
      "sleeping 1 second...\n",
      "done sleeping\n",
      "done sleeping\n",
      "Process time: 1.0\n"
     ]
    }
   ],
   "source": [
    "import threading\n",
    "import time\n",
    "\n",
    "def doing_something():\n",
    "    print('sleeping 1 second...')\n",
    "    time.sleep(1)\n",
    "    print('done sleeping')\n",
    "    \n",
    "# dung thread\n",
    "start = time.time()\n",
    "t1 = threading.Thread(target = doing_something)\n",
    "t2 = threading.Thread(target = doing_something)\n",
    "\n",
    "t1.start()\n",
    "t2.start()\n",
    "\n",
    "t1.join()\n",
    "t2.join()\n",
    "\n",
    "end = time.time()\n",
    "print(\"Process time: \" + str(round(end - start, 2)))"
   ]
  },
  {
   "cell_type": "code",
   "execution_count": 11,
   "id": "7a1152cd",
   "metadata": {},
   "outputs": [
    {
     "name": "stdout",
     "output_type": "stream",
     "text": [
      "sleeping 1 second...\n",
      "sleeping 1 second...\n",
      "sleeping 1 second...\n",
      "sleeping 1 second...\n",
      "sleeping 1 second...\n",
      "sleeping 1 second...\n",
      "sleeping 1 second...\n",
      "sleeping 1 second...\n",
      "sleeping 1 second...\n",
      "sleeping 1 second...\n",
      "done sleepingdone sleeping\n",
      "\n",
      "done sleeping\n",
      "done sleeping\n",
      "done sleeping\n",
      "done sleeping\n",
      "done sleeping\n",
      "done sleeping\n",
      "done sleeping\n",
      "done sleeping\n",
      "Process time: 1.0041117668151855\n"
     ]
    }
   ],
   "source": [
    "threads = []\n",
    "start = time.time()\n",
    "for _ in range(10):\n",
    "    t = threading.Thread(target = doing_something)\n",
    "    t.start()\n",
    "    threads.append(t)\n",
    "    \n",
    "for t in threads:\n",
    "    t.join()\n",
    "\n",
    "end = time.time()\n",
    "print(\"Process time: \" + str(end - start))"
   ]
  },
  {
   "cell_type": "code",
   "execution_count": 14,
   "id": "70c54a7d",
   "metadata": {},
   "outputs": [
    {
     "name": "stdout",
     "output_type": "stream",
     "text": [
      "sleeping 1.5 s\n",
      "sleeping 1.5 s\n",
      "done sleep\n",
      "None\n",
      "done sleep\n",
      "None\n",
      "finish: 2\n"
     ]
    }
   ],
   "source": [
    "import concurrent.futures\n",
    "\n",
    "def doing_something(t1, t2):\n",
    "    seconds = t1 + t2\n",
    "    print(f'sleeping {seconds} s')\n",
    "    time.sleep(seconds)\n",
    "    print('done sleep')\n",
    "    \n",
    "start = time.time()\n",
    "with concurrent.futures.ThreadPoolExecutor() as ex:\n",
    "    f1 = ex.submit(doing_something, 1, 0.5)\n",
    "    f2 = ex.submit(doing_something, 1, 0.5)\n",
    "\n",
    "    print(f1.result())\n",
    "    print(f2.result())\n",
    "    \n",
    "end = time.time()\n",
    "print(f'finish: {round(end - start)}')"
   ]
  },
  {
   "cell_type": "code",
   "execution_count": null,
   "id": "644891e5",
   "metadata": {},
   "outputs": [],
   "source": []
  },
  {
   "cell_type": "code",
   "execution_count": null,
   "id": "9bad4c85",
   "metadata": {},
   "outputs": [],
   "source": []
  },
  {
   "cell_type": "code",
   "execution_count": null,
   "id": "d31d8dfb",
   "metadata": {},
   "outputs": [],
   "source": []
  },
  {
   "cell_type": "code",
   "execution_count": null,
   "id": "df744191",
   "metadata": {},
   "outputs": [],
   "source": []
  },
  {
   "cell_type": "code",
   "execution_count": null,
   "id": "ac10fe08",
   "metadata": {},
   "outputs": [],
   "source": []
  },
  {
   "cell_type": "code",
   "execution_count": null,
   "id": "4bfb2a29",
   "metadata": {},
   "outputs": [],
   "source": []
  }
 ],
 "metadata": {
  "kernelspec": {
   "display_name": "Python 3 (ipykernel)",
   "language": "python",
   "name": "python3"
  },
  "language_info": {
   "codemirror_mode": {
    "name": "ipython",
    "version": 3
   },
   "file_extension": ".py",
   "mimetype": "text/x-python",
   "name": "python",
   "nbconvert_exporter": "python",
   "pygments_lexer": "ipython3",
   "version": "3.10.6"
  }
 },
 "nbformat": 4,
 "nbformat_minor": 5
}
