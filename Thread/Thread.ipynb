{
 "cells": [
  {
   "cell_type": "markdown",
   "metadata": {},
   "source": [
    "#### Create thread"
   ]
  },
  {
   "cell_type": "code",
   "execution_count": 3,
   "metadata": {},
   "outputs": [
    {
     "name": "stdout",
     "output_type": "stream",
     "text": [
      "1, 2, 3, 4, 5, 6, 7, 8, 9, 10, "
     ]
    }
   ],
   "source": [
    "# Cach 1\n",
    "from threading import Thread\n",
    "\n",
    "\n",
    "def func_4_thread(n_max: int) -> None:\n",
    "    n = 0\n",
    "    while n < n_max:\n",
    "        n += 1\n",
    "        print(n, end=\", \")\n",
    "\n",
    "\n",
    "my_thread = Thread(target=func_4_thread, args=(10,))\n",
    "my_thread.start()"
   ]
  },
  {
   "cell_type": "code",
   "execution_count": 5,
   "metadata": {},
   "outputs": [
    {
     "name": "stdout",
     "output_type": "stream",
     "text": [
      "1, 2, 3, 4, 5, 6, 7, 8, 9, 10, "
     ]
    }
   ],
   "source": [
    "from threading import Thread\n",
    "\n",
    "\n",
    "class MyThread(Thread):\n",
    "    def __init__(self, n_max) -> None:\n",
    "        Thread.__init__(self)\n",
    "        self.n_max = n_max\n",
    "\n",
    "    def run(self) -> None:\n",
    "        n = 0\n",
    "        while n < self.n_max:\n",
    "            n += 1\n",
    "            print(n, end=\", \")\n",
    "\n",
    "\n",
    "my_thread = MyThread(n_max=10)\n",
    "my_thread.start()"
   ]
  },
  {
   "cell_type": "code",
   "execution_count": 7,
   "metadata": {},
   "outputs": [
    {
     "name": "stdout",
     "output_type": "stream",
     "text": [
      "normal thread, sleeping for 20 seconds:  init\n",
      "\n",
      "daemon thread, sleeping for 10 seconds:  init\n",
      "\n"
     ]
    },
    {
     "name": "stdout",
     "output_type": "stream",
     "text": [
      "daemon thread, sleeping for 10 seconds:  done\n",
      "\n",
      "normal thread, sleeping for 20 seconds:  done\n",
      "\n"
     ]
    }
   ],
   "source": [
    "import time\n",
    "\n",
    "def func_4_thread(thread_name: str, sleep_secs: int = 10) -> None:\n",
    "    msg_prefix = f\"{thread_name} thread, sleeping for {sleep_secs} seconds: \"\n",
    "    print(msg_prefix, \"init\\n\")\n",
    "    time.sleep(sleep_secs)\n",
    "    print(msg_prefix, \"done\\n\")\n",
    "\n",
    "\n",
    "from threading import Thread\n",
    "\n",
    "\n",
    "normal_thread = Thread(target=func_4_thread, args=(\"normal\", 20))\n",
    "normal_thread.start()\n",
    "\n",
    "daemon_thread = Thread(target=func_4_thread, args=(\"daemon\", 10), daemon=True)\n",
    "daemon_thread.start()"
   ]
  }
 ],
 "metadata": {
  "kernelspec": {
   "display_name": "Python 3.10.6 64-bit",
   "language": "python",
   "name": "python3"
  },
  "language_info": {
   "codemirror_mode": {
    "name": "ipython",
    "version": 3
   },
   "file_extension": ".py",
   "mimetype": "text/x-python",
   "name": "python",
   "nbconvert_exporter": "python",
   "pygments_lexer": "ipython3",
   "version": "3.10.6"
  },
  "orig_nbformat": 4,
  "vscode": {
   "interpreter": {
    "hash": "916dbcbb3f70747c44a77c7bcd40155683ae19c65e1c03b4aa3499c5328201f1"
   }
  }
 },
 "nbformat": 4,
 "nbformat_minor": 2
}
