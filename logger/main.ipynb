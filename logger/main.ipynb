{
 "cells": [
  {
   "cell_type": "code",
   "execution_count": 1,
   "metadata": {},
   "outputs": [],
   "source": [
    "import logging\n",
    "import os\n",
    "import coloredlogs"
   ]
  },
  {
   "cell_type": "code",
   "execution_count": 6,
   "metadata": {},
   "outputs": [],
   "source": [
    "LOGGING_LEVEL = os.getenv(\"LOGGING_LEVEL\", \"DEBUG\")"
   ]
  },
  {
   "cell_type": "code",
   "execution_count": 2,
   "metadata": {},
   "outputs": [
    {
     "name": "stdout",
     "output_type": "stream",
     "text": [
      "<class 'dict'>\n"
     ]
    }
   ],
   "source": [
    "LEVEL = {\n",
    "    \"INFO\": logging.INFO,\n",
    "    \"DEBUG\": logging.DEBUG,\n",
    "    \"WARNING\": logging.WARNING,\n",
    "    \"ERROR\": logging.ERROR,\n",
    "}\n",
    "print(type(LEVEL))"
   ]
  },
  {
   "cell_type": "code",
   "execution_count": 4,
   "metadata": {},
   "outputs": [
    {
     "data": {
      "text/plain": [
       "<Logger UX Backend (WARNING)>"
      ]
     },
     "execution_count": 4,
     "metadata": {},
     "output_type": "execute_result"
    }
   ],
   "source": [
    "# create customer logger\n",
    "logger = logging.getLogger(\"UX Backend\")\n",
    "logger"
   ]
  },
  {
   "cell_type": "code",
   "execution_count": 11,
   "metadata": {},
   "outputs": [],
   "source": [
    "log_format = \"[%(asctime)s|%(threadName)10s|%(levelname)7s|%(filename)s:%(lineno)03d] %(message)s\"\n",
    "formatter = logging.Formatter(log_format)\n",
    "coloredlogs.install(\n",
    "    logger=logger, milliseconds=True, fmt=log_format, level=LEVEL[LOGGING_LEVEL]\n",
    ")"
   ]
  },
  {
   "cell_type": "code",
   "execution_count": 12,
   "metadata": {},
   "outputs": [
    {
     "name": "stderr",
     "output_type": "stream",
     "text": [
      "[2022-11-15 23:08:44,293|MainThread|  ERROR|1637754658.py:001] Loi rooi\n",
      "[2022-11-15 23:08:44,296|MainThread|   INFO|1637754658.py:002] Sucess\n"
     ]
    }
   ],
   "source": [
    "logger.error(\"Loi rooi\")\n",
    "logger.info(\"Sucess\")"
   ]
  }
 ],
 "metadata": {
  "kernelspec": {
   "display_name": "Python 3.10.6 64-bit",
   "language": "python",
   "name": "python3"
  },
  "language_info": {
   "codemirror_mode": {
    "name": "ipython",
    "version": 3
   },
   "file_extension": ".py",
   "mimetype": "text/x-python",
   "name": "python",
   "nbconvert_exporter": "python",
   "pygments_lexer": "ipython3",
   "version": "3.10.6"
  },
  "orig_nbformat": 4,
  "vscode": {
   "interpreter": {
    "hash": "916dbcbb3f70747c44a77c7bcd40155683ae19c65e1c03b4aa3499c5328201f1"
   }
  }
 },
 "nbformat": 4,
 "nbformat_minor": 2
}
