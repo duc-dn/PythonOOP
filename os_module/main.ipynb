{
 "cells": [
  {
   "cell_type": "code",
   "execution_count": 1,
   "metadata": {},
   "outputs": [],
   "source": [
    "import os"
   ]
  },
  {
   "cell_type": "code",
   "execution_count": 3,
   "metadata": {},
   "outputs": [
    {
     "data": {
      "text/plain": [
       "'/home/ducdn/Documents/PythonOOP/os_module'"
      ]
     },
     "execution_count": 3,
     "metadata": {},
     "output_type": "execute_result"
    }
   ],
   "source": [
    "# duong dan hien tai\n",
    "os.getcwd()"
   ]
  },
  {
   "cell_type": "code",
   "execution_count": 4,
   "metadata": {},
   "outputs": [
    {
     "data": {
      "text/plain": [
       "'/home/ducdn/Documents/PythonOOP/os_module/demo'"
      ]
     },
     "execution_count": 4,
     "metadata": {},
     "output_type": "execute_result"
    }
   ],
   "source": [
    "# noi duong dan\n",
    "path = os.path.join(os.getcwd(), 'demo')\n",
    "path"
   ]
  },
  {
   "cell_type": "code",
   "execution_count": 5,
   "metadata": {},
   "outputs": [
    {
     "data": {
      "text/plain": [
       "['.ipynb_checkpoints', 'main.ipynb']"
      ]
     },
     "execution_count": 5,
     "metadata": {},
     "output_type": "execute_result"
    }
   ],
   "source": [
    "# List all files and directories\n",
    "os.listdir(os.getcwd())"
   ]
  },
  {
   "attachments": {},
   "cell_type": "markdown",
   "metadata": {},
   "source": [
    "### os.getenv() tra ve gia tri key cua cac bien moi truong trong Ubuntu"
   ]
  },
  {
   "cell_type": "code",
   "execution_count": 17,
   "metadata": {},
   "outputs": [
    {
     "data": {
      "text/plain": [
       "'/home/ducdn'"
      ]
     },
     "execution_count": 17,
     "metadata": {},
     "output_type": "execute_result"
    }
   ],
   "source": [
    "home = 'HOME'\n",
    "value = os.getenv(home)\n",
    "value"
   ]
  },
  {
   "cell_type": "code",
   "execution_count": 19,
   "metadata": {},
   "outputs": [
    {
     "data": {
      "text/plain": [
       "'/home/ducdn/Desktop/kafka'"
      ]
     },
     "execution_count": 19,
     "metadata": {},
     "output_type": "execute_result"
    }
   ],
   "source": [
    "kafka_home = 'KAFKA_HOME'\n",
    "value = os.getenv(\"KAFKA_HOME\")\n",
    "value"
   ]
  },
  {
   "cell_type": "code",
   "execution_count": 25,
   "metadata": {},
   "outputs": [
    {
     "name": "stdout",
     "output_type": "stream",
     "text": [
      "Value of 'home' enviroment variable:  value does not exist\n"
     ]
    }
   ],
   "source": [
    "### Chỉ định rõ ràng tham số mặc định\n",
    "# key = 'HOME'\n",
    "key = 'home'\n",
    "\n",
    "# Neu key khong ton tai thi tra ve value does not exist\n",
    "value = os.getenv(key, \"value does not exist\")\n",
    "print(\"Value of 'home' enviroment variable: \", value)"
   ]
  },
  {
   "attachments": {},
   "cell_type": "markdown",
   "metadata": {},
   "source": [
    "#### Sử dụng os.environ để truy cập các biến môi trường"
   ]
  },
  {
   "cell_type": "code",
   "execution_count": 21,
   "metadata": {},
   "outputs": [
    {
     "data": {
      "text/plain": [
       "environ{'ELECTRON_RUN_AS_NODE': '1',\n",
       "        'SNAP_INSTANCE_KEY': '',\n",
       "        'CLIENT_JAR': '/home/ducdn/Documents/spark/jars/aws-java-sdk-bundle-1.12.48.jar:/home/ducdn/Documents/spark/jars/hadoop-aws-3.3.1.jar',\n",
       "        'USER': 'ducdn',\n",
       "        'SNAP_COMMON': '/var/snap/code/common',\n",
       "        'LC_TIME': 'vi_VN',\n",
       "        'XDG_SESSION_TYPE': 'wayland',\n",
       "        'HADOOP_COMMON_HOME': '/usr/local/hadoop',\n",
       "        'SHLVL': '1',\n",
       "        'LESS': '-R',\n",
       "        'HOME': '/home/ducdn',\n",
       "        'SNAP_LIBRARY_PATH': '/var/lib/snapd/lib/gl:/var/lib/snapd/lib/gl32:/var/lib/snapd/void',\n",
       "        'OLDPWD': '/home/ducdn/Documents/PythonOOP',\n",
       "        'DESKTOP_SESSION': 'ubuntu',\n",
       "        'SNAP_USER_DATA': '/home/ducdn/snap/code/116',\n",
       "        'LSCOLORS': 'Gxfxcxdxbxegedabagacad',\n",
       "        'ZNT_CONFIG_DIR': '/home/ducdn/.config/znt',\n",
       "        'ZSH': '/home/ducdn/.oh-my-zsh',\n",
       "        'GNOME_SHELL_SESSION_MODE': 'ubuntu',\n",
       "        'GTK_MODULES': 'gail:atk-bridge',\n",
       "        '_ZSH_TMUX_FIXED_CONFIG': '/home/ducdn/.oh-my-zsh/plugins/tmux/tmux.extra.conf',\n",
       "        'PAGER': 'cat',\n",
       "        'CONFLUENT_DIR': '/home/ducdn/Desktop/confluent-7.3.0',\n",
       "        'LC_MONETARY': 'vi_VN',\n",
       "        'HADOOP_COMMON_LIB_NATIVE_DIR': '/usr/local/hadoop/lib/native',\n",
       "        'DBUS_STARTER_BUS_TYPE': 'session',\n",
       "        'SYSTEMD_EXEC_PID': '2402',\n",
       "        'DBUS_SESSION_BUS_ADDRESS': 'unix:path=/run/user/1000/bus,guid=324bcecb94ccef352bffedcb63a9a285',\n",
       "        'SNAP_REVISION': '116',\n",
       "        'COLORTERM': 'truecolor',\n",
       "        'HUDI_DIR': '/home/ducdn/Desktop/hudi',\n",
       "        'WAYLAND_DISPLAY': 'wayland-0',\n",
       "        'LOGNAME': 'ducdn',\n",
       "        'SNAP_CONTEXT': 'W21jF4k1hhfsN6SfQaDKHHeLKgKWrAvo8ZMKlU8J_7CecNdFtIBG',\n",
       "        'XDG_SESSION_CLASS': 'user',\n",
       "        'SNAP_VERSION': 'e8a3071e',\n",
       "        'USERNAME': 'ducdn',\n",
       "        'TERM': 'xterm-color',\n",
       "        'GNOME_DESKTOP_SESSION_ID': 'this-is-deprecated',\n",
       "        'SNAP_INSTANCE_NAME': 'code',\n",
       "        'PATH': '/bin:/home/ducdn/.local/bin:/home/ducdn/bin:/usr/local/bin:/usr/local/sbin:/usr/local/bin:/usr/sbin:/usr/bin:/sbin:/bin:/usr/games:/usr/local/games:/snap/bin:/snap/bin:/home/ducdn/.oh-my-zsh/custom/plugins/git-extra-commands/bin:/home/ducdn/anaconda3/bin:/usr/lib/jvm/java-8-openjdk-amd64/bin:/home/ducdn/Documents/spark/bin:/usr/local/hadoop/bin:/usr/local/hadoop/sbin:/home/ducdn/.local/bin:/home/ducdn/bin:/usr/local/bin:/usr/local/sbin:/usr/local/bin:/usr/sbin:/usr/bin:/sbin:/bin:/usr/games:/usr/local/games:/snap/bin:/snap/bin:/home/ducdn/.oh-my-zsh/custom/plugins/git-extra-commands/bin:/home/ducdn/anaconda3/bin:/usr/lib/jvm/java-8-openjdk-amd64/bin:/home/ducdn/Documents/spark/bin:/usr/local/hadoop/bin:/usr/local/hadoop/sbin',\n",
       "        'SESSION_MANAGER': 'local/duc:@/tmp/.ICE-unix/2402,unix/duc:/tmp/.ICE-unix/2402',\n",
       "        'DIRHISTORY_SIZE': '30',\n",
       "        'XDG_MENU_PREFIX': 'gnome-',\n",
       "        'LC_ADDRESS': 'vi_VN',\n",
       "        'GNOME_TERMINAL_SCREEN': '/org/gnome/Terminal/screen/43aed620_a758_4e6b_9530_2c416df07320',\n",
       "        'GNOME_SETUP_DISPLAY': ':1',\n",
       "        'SNAP_DATA': '/var/snap/code/116',\n",
       "        'XDG_RUNTIME_DIR': '/run/user/1000',\n",
       "        'DISPLAY': ':0',\n",
       "        'YARN_HOME': '/usr/local/hadoop',\n",
       "        'LANG': 'en_US.UTF-8',\n",
       "        'XDG_CURRENT_DESKTOP': 'Unity',\n",
       "        'LC_TELEPHONE': 'vi_VN',\n",
       "        'XMODIFIERS': '@im=ibus',\n",
       "        'XDG_SESSION_DESKTOP': 'ubuntu',\n",
       "        'XAUTHORITY': '/run/user/1000/.mutter-Xwaylandauth.VGMQX1',\n",
       "        'LS_COLORS': 'rs=0:di=01;34:ln=01;36:mh=00:pi=40;33:so=01;35:do=01;35:bd=40;33;01:cd=40;33;01:or=40;31;01:mi=00:su=37;41:sg=30;43:ca=30;41:tw=30;42:ow=34;42:st=37;44:ex=01;32:*.tar=01;31:*.tgz=01;31:*.arc=01;31:*.arj=01;31:*.taz=01;31:*.lha=01;31:*.lz4=01;31:*.lzh=01;31:*.lzma=01;31:*.tlz=01;31:*.txz=01;31:*.tzo=01;31:*.t7z=01;31:*.zip=01;31:*.z=01;31:*.dz=01;31:*.gz=01;31:*.lrz=01;31:*.lz=01;31:*.lzo=01;31:*.xz=01;31:*.zst=01;31:*.tzst=01;31:*.bz2=01;31:*.bz=01;31:*.tbz=01;31:*.tbz2=01;31:*.tz=01;31:*.deb=01;31:*.rpm=01;31:*.jar=01;31:*.war=01;31:*.ear=01;31:*.sar=01;31:*.rar=01;31:*.alz=01;31:*.ace=01;31:*.zoo=01;31:*.cpio=01;31:*.7z=01;31:*.rz=01;31:*.cab=01;31:*.wim=01;31:*.swm=01;31:*.dwm=01;31:*.esd=01;31:*.jpg=01;35:*.jpeg=01;35:*.mjpg=01;35:*.mjpeg=01;35:*.gif=01;35:*.bmp=01;35:*.pbm=01;35:*.pgm=01;35:*.ppm=01;35:*.tga=01;35:*.xbm=01;35:*.xpm=01;35:*.tif=01;35:*.tiff=01;35:*.png=01;35:*.svg=01;35:*.svgz=01;35:*.mng=01;35:*.pcx=01;35:*.mov=01;35:*.mpg=01;35:*.mpeg=01;35:*.m2v=01;35:*.mkv=01;35:*.webm=01;35:*.webp=01;35:*.ogm=01;35:*.mp4=01;35:*.m4v=01;35:*.mp4v=01;35:*.vob=01;35:*.qt=01;35:*.nuv=01;35:*.wmv=01;35:*.asf=01;35:*.rm=01;35:*.rmvb=01;35:*.flc=01;35:*.avi=01;35:*.fli=01;35:*.flv=01;35:*.gl=01;35:*.dl=01;35:*.xcf=01;35:*.xwd=01;35:*.yuv=01;35:*.cgm=01;35:*.emf=01;35:*.ogv=01;35:*.ogx=01;35:*.aac=00;36:*.au=00;36:*.flac=00;36:*.m4a=00;36:*.mid=00;36:*.midi=00;36:*.mka=00;36:*.mp3=00;36:*.mpc=00;36:*.ogg=00;36:*.ra=00;36:*.wav=00;36:*.oga=00;36:*.opus=00;36:*.spx=00;36:*.xspf=00;36:',\n",
       "        'GNOME_TERMINAL_SERVICE': ':1.122',\n",
       "        'ZSH_TMUX_TERM': 'screen-256color',\n",
       "        'SSH_AGENT_LAUNCHER': 'gnome-keyring',\n",
       "        'SNAP_USER_COMMON': '/home/ducdn/snap/code/common',\n",
       "        'AWS_ACCESS_KEY': 'minioadmin',\n",
       "        'SSH_AUTH_SOCK': '/run/user/1000/keyring/ssh',\n",
       "        'GSETTINGS_SCHEMA_DIR': '/snap/code/116/usr/share/glib-2.0/schemas',\n",
       "        'SNAP_ARCH': 'amd64',\n",
       "        'SNAP_COOKIE': 'W21jF4k1hhfsN6SfQaDKHHeLKgKWrAvo8ZMKlU8J_7CecNdFtIBG',\n",
       "        'SHELL': '/usr/bin/zsh',\n",
       "        'HADOOP_OPTS': '-Djava.library.path=/usr/local/hadoop/lib',\n",
       "        'LC_NAME': 'vi_VN',\n",
       "        'HADOOP_MAPRED_HOME': '/usr/local/hadoop',\n",
       "        'GDK_PIXBUF_MODULEDIR': '/snap/code/116/usr/lib/x86_64-linux-gnu/gdk-pixbuf-2.0/2.10.0/loaders',\n",
       "        'QT_ACCESSIBILITY': '1',\n",
       "        'SNAP_REEXEC': '',\n",
       "        'GDMSESSION': 'ubuntu',\n",
       "        'AWS_ENDPOINT': 'http://127.0.0.1:9000',\n",
       "        'AWS_SECRET_ACCESS_KEY': 'minioadmin',\n",
       "        'SNAP_NAME': 'code',\n",
       "        'LC_MEASUREMENT': 'vi_VN',\n",
       "        'GDK_PIXBUF_MODULE_FILE': '/home/ducdn/snap/code/common/.cache/gdk-pixbuf-loaders.cache',\n",
       "        'KAFKA_HOME': '/home/ducdn/Desktop/kafka',\n",
       "        'LC_IDENTIFICATION': 'vi_VN',\n",
       "        'QT_IM_MODULE': 'ibus',\n",
       "        'JAVA_HOME': '/usr/lib/jvm/java-8-openjdk-amd64',\n",
       "        'PWD': '/home/ducdn/Documents/PythonOOP',\n",
       "        'FZF_DEFAULT_COMMAND': 'fd --type f --hidden --exclude .git',\n",
       "        'SNAP_REAL_HOME': '/home/ducdn',\n",
       "        'ZSH_TMUX_CONFIG': '/home/ducdn/.tmux.conf',\n",
       "        'DBUS_STARTER_ADDRESS': 'unix:path=/run/user/1000/bus,guid=324bcecb94ccef352bffedcb63a9a285',\n",
       "        'XDG_DATA_DIRS': '/usr/local/share/:/usr/share/:/var/lib/snapd/desktop',\n",
       "        'HADOOP_HDFS_HOME': '/usr/local/hadoop',\n",
       "        'SNAP': '/snap/code/116',\n",
       "        'LC_NUMERIC': 'vi_VN',\n",
       "        'LC_PAPER': 'vi_VN',\n",
       "        'ZNT_REPO_DIR': '/home/ducdn/.oh-my-zsh/plugins/zsh-navigation-tools',\n",
       "        'VTE_VERSION': '6800',\n",
       "        'HADOOP_HOME': '/usr/local/hadoop',\n",
       "        'SPARK_HOME': '/home/ducdn/Documents/spark',\n",
       "        'VSCODE_CWD': '/home/ducdn/Documents/PythonOOP',\n",
       "        'VSCODE_CLI': '1',\n",
       "        'ELECTRON_NO_ATTACH_CONSOLE': '1',\n",
       "        'CHROME_DESKTOP': 'code-url-handler.desktop',\n",
       "        'ORIGINAL_XDG_CURRENT_DESKTOP': 'ubuntu:GNOME',\n",
       "        'GDK_BACKEND': 'x11',\n",
       "        'VSCODE_NLS_CONFIG': '{\"locale\":\"en-us\",\"availableLanguages\":{},\"_languagePackSupport\":true}',\n",
       "        'VSCODE_CODE_CACHE_PATH': '/home/ducdn/.config/Code/CachedData/e8a3071ea4344d9d48ef8a4df2c097372b0c5161',\n",
       "        'VSCODE_IPC_HOOK': '/run/user/1000/vscode-e0177b37-1.74.2-main.sock',\n",
       "        'VSCODE_PID': '6341',\n",
       "        'VSCODE_AMD_ENTRYPOINT': 'vs/workbench/api/node/extensionHostProcess',\n",
       "        'VSCODE_HANDLES_UNCAUGHT_ERRORS': 'true',\n",
       "        'APPLICATION_INSIGHTS_NO_DIAGNOSTIC_CHANNEL': 'true',\n",
       "        'PYTHONPATH': '/home/ducdn/.vscode/extensions/ms-toolsai.jupyter-2022.11.1003412109/pythonFiles:/home/ducdn/.vscode/extensions/ms-toolsai.jupyter-2022.11.1003412109/pythonFiles/lib/python',\n",
       "        'PYTHONUNBUFFERED': '1',\n",
       "        'PYTHONIOENCODING': 'utf-8',\n",
       "        'JUPYTER_PATH': '/home/ducdn/.vscode/extensions/ms-toolsai.jupyter-2022.11.1003412109/temp/jupyter',\n",
       "        'PYDEVD_IPYTHON_COMPATIBLE_DEBUGGING': '1',\n",
       "        'JPY_PARENT_PID': '11833',\n",
       "        'CLICOLOR': '1',\n",
       "        'GIT_PAGER': 'cat',\n",
       "        'MPLBACKEND': 'module://matplotlib_inline.backend_inline'}"
      ]
     },
     "execution_count": 21,
     "metadata": {},
     "output_type": "execute_result"
    }
   ],
   "source": [
    "os.environ"
   ]
  },
  {
   "cell_type": "code",
   "execution_count": 22,
   "metadata": {},
   "outputs": [
    {
     "data": {
      "text/plain": [
       "'/home/ducdn/Desktop/kafka'"
      ]
     },
     "execution_count": 22,
     "metadata": {},
     "output_type": "execute_result"
    }
   ],
   "source": [
    "#### truy cap vao 1 enviroment cu the\n",
    "os.environ.get(\"KAFKA_HOME\")"
   ]
  },
  {
   "cell_type": "code",
   "execution_count": 23,
   "metadata": {},
   "outputs": [
    {
     "data": {
      "text/plain": [
       "'countly'"
      ]
     },
     "execution_count": 23,
     "metadata": {},
     "output_type": "execute_result"
    }
   ],
   "source": [
    "COUNTLY_DB = os.getenv(\"COUNTLY_DB\", \"countly\")\n",
    "COUNTLY_DB"
   ]
  }
 ],
 "metadata": {
  "kernelspec": {
   "display_name": "Python 3",
   "language": "python",
   "name": "python3"
  },
  "language_info": {
   "codemirror_mode": {
    "name": "ipython",
    "version": 3
   },
   "file_extension": ".py",
   "mimetype": "text/x-python",
   "name": "python",
   "nbconvert_exporter": "python",
   "pygments_lexer": "ipython3",
   "version": "3.10.6"
  },
  "orig_nbformat": 4,
  "vscode": {
   "interpreter": {
    "hash": "916dbcbb3f70747c44a77c7bcd40155683ae19c65e1c03b4aa3499c5328201f1"
   }
  }
 },
 "nbformat": 4,
 "nbformat_minor": 2
}
